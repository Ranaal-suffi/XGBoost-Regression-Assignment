{
 "cells": [
  {
   "cell_type": "code",
   "execution_count": 1,
   "id": "691320f4-8429-474a-af53-c90997da5a2f",
   "metadata": {
    "tags": []
   },
   "outputs": [],
   "source": [
    "import pandas  as pd\n",
    "import numpy   as np\n",
    "import xgboost as xgb"
   ]
  },
  {
   "cell_type": "code",
   "execution_count": 3,
   "id": "64542dac-71e1-4f6e-a453-502cff61045c",
   "metadata": {
    "tags": []
   },
   "outputs": [
    {
     "data": {
      "text/html": [
       "<div>\n",
       "<style scoped>\n",
       "    .dataframe tbody tr th:only-of-type {\n",
       "        vertical-align: middle;\n",
       "    }\n",
       "\n",
       "    .dataframe tbody tr th {\n",
       "        vertical-align: top;\n",
       "    }\n",
       "\n",
       "    .dataframe thead th {\n",
       "        text-align: right;\n",
       "    }\n",
       "</style>\n",
       "<table border=\"1\" class=\"dataframe\">\n",
       "  <thead>\n",
       "    <tr style=\"text-align: right;\">\n",
       "      <th></th>\n",
       "      <th>id</th>\n",
       "      <th>squareMeters</th>\n",
       "      <th>numberOfRooms</th>\n",
       "      <th>hasYard</th>\n",
       "      <th>hasPool</th>\n",
       "      <th>floors</th>\n",
       "      <th>cityCode</th>\n",
       "      <th>cityPartRange</th>\n",
       "      <th>numPrevOwners</th>\n",
       "      <th>made</th>\n",
       "      <th>isNewBuilt</th>\n",
       "      <th>hasStormProtector</th>\n",
       "      <th>basement</th>\n",
       "      <th>attic</th>\n",
       "      <th>garage</th>\n",
       "      <th>hasStorageRoom</th>\n",
       "      <th>hasGuestRoom</th>\n",
       "      <th>price</th>\n",
       "    </tr>\n",
       "  </thead>\n",
       "  <tbody>\n",
       "    <tr>\n",
       "      <th>0</th>\n",
       "      <td>0</td>\n",
       "      <td>34291</td>\n",
       "      <td>24</td>\n",
       "      <td>1</td>\n",
       "      <td>0</td>\n",
       "      <td>47</td>\n",
       "      <td>35693</td>\n",
       "      <td>2</td>\n",
       "      <td>1</td>\n",
       "      <td>2000</td>\n",
       "      <td>0</td>\n",
       "      <td>1</td>\n",
       "      <td>8</td>\n",
       "      <td>5196</td>\n",
       "      <td>369</td>\n",
       "      <td>0</td>\n",
       "      <td>3</td>\n",
       "      <td>3436795.2</td>\n",
       "    </tr>\n",
       "    <tr>\n",
       "      <th>1</th>\n",
       "      <td>1</td>\n",
       "      <td>95145</td>\n",
       "      <td>60</td>\n",
       "      <td>0</td>\n",
       "      <td>1</td>\n",
       "      <td>60</td>\n",
       "      <td>34773</td>\n",
       "      <td>1</td>\n",
       "      <td>4</td>\n",
       "      <td>2000</td>\n",
       "      <td>0</td>\n",
       "      <td>1</td>\n",
       "      <td>729</td>\n",
       "      <td>4496</td>\n",
       "      <td>277</td>\n",
       "      <td>0</td>\n",
       "      <td>6</td>\n",
       "      <td>9519958.0</td>\n",
       "    </tr>\n",
       "    <tr>\n",
       "      <th>2</th>\n",
       "      <td>2</td>\n",
       "      <td>92661</td>\n",
       "      <td>45</td>\n",
       "      <td>1</td>\n",
       "      <td>1</td>\n",
       "      <td>62</td>\n",
       "      <td>45457</td>\n",
       "      <td>4</td>\n",
       "      <td>8</td>\n",
       "      <td>2020</td>\n",
       "      <td>1</td>\n",
       "      <td>1</td>\n",
       "      <td>7473</td>\n",
       "      <td>8953</td>\n",
       "      <td>245</td>\n",
       "      <td>1</td>\n",
       "      <td>9</td>\n",
       "      <td>9276448.1</td>\n",
       "    </tr>\n",
       "    <tr>\n",
       "      <th>3</th>\n",
       "      <td>3</td>\n",
       "      <td>97184</td>\n",
       "      <td>99</td>\n",
       "      <td>0</td>\n",
       "      <td>0</td>\n",
       "      <td>59</td>\n",
       "      <td>15113</td>\n",
       "      <td>1</td>\n",
       "      <td>1</td>\n",
       "      <td>2000</td>\n",
       "      <td>0</td>\n",
       "      <td>1</td>\n",
       "      <td>6424</td>\n",
       "      <td>8522</td>\n",
       "      <td>256</td>\n",
       "      <td>1</td>\n",
       "      <td>9</td>\n",
       "      <td>9725732.2</td>\n",
       "    </tr>\n",
       "    <tr>\n",
       "      <th>4</th>\n",
       "      <td>4</td>\n",
       "      <td>61752</td>\n",
       "      <td>100</td>\n",
       "      <td>0</td>\n",
       "      <td>0</td>\n",
       "      <td>57</td>\n",
       "      <td>64245</td>\n",
       "      <td>8</td>\n",
       "      <td>4</td>\n",
       "      <td>2018</td>\n",
       "      <td>1</td>\n",
       "      <td>0</td>\n",
       "      <td>7151</td>\n",
       "      <td>2786</td>\n",
       "      <td>863</td>\n",
       "      <td>0</td>\n",
       "      <td>7</td>\n",
       "      <td>6181908.8</td>\n",
       "    </tr>\n",
       "  </tbody>\n",
       "</table>\n",
       "</div>"
      ],
      "text/plain": [
       "   id  squareMeters  numberOfRooms  hasYard  hasPool  floors  cityCode  \\\n",
       "0   0         34291             24        1        0      47     35693   \n",
       "1   1         95145             60        0        1      60     34773   \n",
       "2   2         92661             45        1        1      62     45457   \n",
       "3   3         97184             99        0        0      59     15113   \n",
       "4   4         61752            100        0        0      57     64245   \n",
       "\n",
       "   cityPartRange  numPrevOwners  made  isNewBuilt  hasStormProtector  \\\n",
       "0              2              1  2000           0                  1   \n",
       "1              1              4  2000           0                  1   \n",
       "2              4              8  2020           1                  1   \n",
       "3              1              1  2000           0                  1   \n",
       "4              8              4  2018           1                  0   \n",
       "\n",
       "   basement  attic  garage  hasStorageRoom  hasGuestRoom      price  \n",
       "0         8   5196     369               0             3  3436795.2  \n",
       "1       729   4496     277               0             6  9519958.0  \n",
       "2      7473   8953     245               1             9  9276448.1  \n",
       "3      6424   8522     256               1             9  9725732.2  \n",
       "4      7151   2786     863               0             7  6181908.8  "
      ]
     },
     "execution_count": 3,
     "metadata": {},
     "output_type": "execute_result"
    }
   ],
   "source": [
    "train_data= pd.read_csv(\"train.csv\")\n",
    "train_data.head()"
   ]
  },
  {
   "cell_type": "code",
   "execution_count": 4,
   "id": "875c8e06-f2f1-47b8-aba9-88d625b934a4",
   "metadata": {
    "tags": []
   },
   "outputs": [
    {
     "data": {
      "text/plain": [
       "Index(['id', 'squareMeters', 'numberOfRooms', 'hasYard', 'hasPool', 'floors',\n",
       "       'cityCode', 'cityPartRange', 'numPrevOwners', 'made', 'isNewBuilt',\n",
       "       'hasStormProtector', 'basement', 'attic', 'garage', 'hasStorageRoom',\n",
       "       'hasGuestRoom', 'price'],\n",
       "      dtype='object')"
      ]
     },
     "execution_count": 4,
     "metadata": {},
     "output_type": "execute_result"
    }
   ],
   "source": [
    "train_data.keys()"
   ]
  },
  {
   "cell_type": "code",
   "execution_count": 12,
   "id": "3500d6f8-1695-41ac-aa47-eed60bef015f",
   "metadata": {
    "tags": []
   },
   "outputs": [
    {
     "data": {
      "text/plain": [
       "id                   0\n",
       "squareMeters         0\n",
       "numberOfRooms        0\n",
       "hasYard              0\n",
       "hasPool              0\n",
       "floors               0\n",
       "cityCode             0\n",
       "cityPartRange        0\n",
       "numPrevOwners        0\n",
       "made                 0\n",
       "isNewBuilt           0\n",
       "hasStormProtector    0\n",
       "basement             0\n",
       "attic                0\n",
       "garage               0\n",
       "hasStorageRoom       0\n",
       "hasGuestRoom         0\n",
       "price                0\n",
       "dtype: int64"
      ]
     },
     "execution_count": 12,
     "metadata": {},
     "output_type": "execute_result"
    }
   ],
   "source": [
    "train_data.isnull().sum()"
   ]
  },
  {
   "cell_type": "code",
   "execution_count": 14,
   "id": "8fbeb02a-9fad-4010-ab53-6eb704e1679c",
   "metadata": {
    "tags": []
   },
   "outputs": [
    {
     "name": "stdout",
     "output_type": "stream",
     "text": [
      "<class 'pandas.core.frame.DataFrame'>\n",
      "RangeIndex: 22730 entries, 0 to 22729\n",
      "Data columns (total 18 columns):\n",
      " #   Column             Non-Null Count  Dtype  \n",
      "---  ------             --------------  -----  \n",
      " 0   id                 22730 non-null  int64  \n",
      " 1   squareMeters       22730 non-null  int64  \n",
      " 2   numberOfRooms      22730 non-null  int64  \n",
      " 3   hasYard            22730 non-null  int64  \n",
      " 4   hasPool            22730 non-null  int64  \n",
      " 5   floors             22730 non-null  int64  \n",
      " 6   cityCode           22730 non-null  int64  \n",
      " 7   cityPartRange      22730 non-null  int64  \n",
      " 8   numPrevOwners      22730 non-null  int64  \n",
      " 9   made               22730 non-null  int64  \n",
      " 10  isNewBuilt         22730 non-null  int64  \n",
      " 11  hasStormProtector  22730 non-null  int64  \n",
      " 12  basement           22730 non-null  int64  \n",
      " 13  attic              22730 non-null  int64  \n",
      " 14  garage             22730 non-null  int64  \n",
      " 15  hasStorageRoom     22730 non-null  int64  \n",
      " 16  hasGuestRoom       22730 non-null  int64  \n",
      " 17  price              22730 non-null  float64\n",
      "dtypes: float64(1), int64(17)\n",
      "memory usage: 3.1 MB\n"
     ]
    }
   ],
   "source": [
    "train_data.info()"
   ]
  },
  {
   "cell_type": "code",
   "execution_count": 19,
   "id": "69ce8725-2816-456b-bfad-143e12e7c837",
   "metadata": {
    "tags": []
   },
   "outputs": [],
   "source": [
    "X = train_data.drop(\"price\", axis=1)\n",
    "y = train_data[\"price\"]"
   ]
  },
  {
   "cell_type": "code",
   "execution_count": 31,
   "id": "2e200be9-a7ca-499d-aac1-e32a36d81e05",
   "metadata": {
    "tags": []
   },
   "outputs": [],
   "source": [
    "X = X.drop(\"id\", axis=1)"
   ]
  },
  {
   "cell_type": "code",
   "execution_count": 32,
   "id": "490b4284-4812-488b-951a-d3e3fe612d67",
   "metadata": {
    "tags": []
   },
   "outputs": [
    {
     "data": {
      "text/plain": [
       "((15229, 16), (7501, 16))"
      ]
     },
     "execution_count": 32,
     "metadata": {},
     "output_type": "execute_result"
    }
   ],
   "source": [
    "from sklearn.model_selection import train_test_split\n",
    "X_train, X_test, y_train, y_test = train_test_split(X, y, test_size=0.33, random_state=42)\n",
    "X_train.shape, X_test.shape"
   ]
  },
  {
   "cell_type": "code",
   "execution_count": 33,
   "id": "54e3a02a-e0e9-4543-8135-bb4ca5160b21",
   "metadata": {
    "tags": []
   },
   "outputs": [],
   "source": [
    "from sklearn.model_selection import GridSearchCV\n",
    "regressor=xgb.XGBRegressor(eval_metric='rmsle')\n",
    "# set up our search grid\n",
    "param_grid = {\"max_depth\":    [4, 5],\n",
    "              \"n_estimators\": [500, 600, 700],\n",
    "              \"learning_rate\": [0.01, 0.015]}"
   ]
  },
  {
   "cell_type": "code",
   "execution_count": 34,
   "id": "1fdba3e9-6ee3-45d0-bed0-ce48668c4b07",
   "metadata": {
    "tags": []
   },
   "outputs": [
    {
     "name": "stdout",
     "output_type": "stream",
     "text": [
      "Fitting 3 folds for each of 12 candidates, totalling 36 fits\n",
      "[CV 1/3] END learning_rate=0.01, max_depth=4, n_estimators=500;, score=0.995 total time=   2.0s\n",
      "[CV 2/3] END learning_rate=0.01, max_depth=4, n_estimators=500;, score=0.997 total time=   2.0s\n",
      "[CV 3/3] END learning_rate=0.01, max_depth=4, n_estimators=500;, score=0.998 total time=   1.7s\n",
      "[CV 1/3] END learning_rate=0.01, max_depth=4, n_estimators=600;, score=0.995 total time=   2.1s\n",
      "[CV 2/3] END learning_rate=0.01, max_depth=4, n_estimators=600;, score=0.997 total time=   2.1s\n",
      "[CV 3/3] END learning_rate=0.01, max_depth=4, n_estimators=600;, score=0.998 total time=   2.1s\n",
      "[CV 1/3] END learning_rate=0.01, max_depth=4, n_estimators=700;, score=0.995 total time=   2.5s\n",
      "[CV 2/3] END learning_rate=0.01, max_depth=4, n_estimators=700;, score=0.997 total time=   2.5s\n",
      "[CV 3/3] END learning_rate=0.01, max_depth=4, n_estimators=700;, score=0.998 total time=   2.5s\n",
      "[CV 1/3] END learning_rate=0.01, max_depth=5, n_estimators=500;, score=0.995 total time=   2.2s\n",
      "[CV 2/3] END learning_rate=0.01, max_depth=5, n_estimators=500;, score=0.997 total time=   2.3s\n",
      "[CV 3/3] END learning_rate=0.01, max_depth=5, n_estimators=500;, score=0.998 total time=   2.2s\n",
      "[CV 1/3] END learning_rate=0.01, max_depth=5, n_estimators=600;, score=0.995 total time=   2.7s\n",
      "[CV 2/3] END learning_rate=0.01, max_depth=5, n_estimators=600;, score=0.997 total time=   2.7s\n",
      "[CV 3/3] END learning_rate=0.01, max_depth=5, n_estimators=600;, score=0.998 total time=   2.7s\n",
      "[CV 1/3] END learning_rate=0.01, max_depth=5, n_estimators=700;, score=0.995 total time=   3.2s\n",
      "[CV 2/3] END learning_rate=0.01, max_depth=5, n_estimators=700;, score=0.997 total time=   3.3s\n",
      "[CV 3/3] END learning_rate=0.01, max_depth=5, n_estimators=700;, score=0.998 total time=   3.1s\n",
      "[CV 1/3] END learning_rate=0.015, max_depth=4, n_estimators=500;, score=0.995 total time=   1.7s\n",
      "[CV 2/3] END learning_rate=0.015, max_depth=4, n_estimators=500;, score=0.997 total time=   1.8s\n",
      "[CV 3/3] END learning_rate=0.015, max_depth=4, n_estimators=500;, score=0.998 total time=   1.7s\n",
      "[CV 1/3] END learning_rate=0.015, max_depth=4, n_estimators=600;, score=0.995 total time=   2.1s\n",
      "[CV 2/3] END learning_rate=0.015, max_depth=4, n_estimators=600;, score=0.997 total time=   2.1s\n",
      "[CV 3/3] END learning_rate=0.015, max_depth=4, n_estimators=600;, score=0.998 total time=   2.1s\n",
      "[CV 1/3] END learning_rate=0.015, max_depth=4, n_estimators=700;, score=0.995 total time=   2.5s\n",
      "[CV 2/3] END learning_rate=0.015, max_depth=4, n_estimators=700;, score=0.997 total time=   2.5s\n",
      "[CV 3/3] END learning_rate=0.015, max_depth=4, n_estimators=700;, score=0.998 total time=   2.4s\n",
      "[CV 1/3] END learning_rate=0.015, max_depth=5, n_estimators=500;, score=0.995 total time=   2.3s\n",
      "[CV 2/3] END learning_rate=0.015, max_depth=5, n_estimators=500;, score=0.997 total time=   2.3s\n",
      "[CV 3/3] END learning_rate=0.015, max_depth=5, n_estimators=500;, score=0.998 total time=   2.3s\n",
      "[CV 1/3] END learning_rate=0.015, max_depth=5, n_estimators=600;, score=0.995 total time=   2.8s\n",
      "[CV 2/3] END learning_rate=0.015, max_depth=5, n_estimators=600;, score=0.997 total time=   2.7s\n",
      "[CV 3/3] END learning_rate=0.015, max_depth=5, n_estimators=600;, score=0.997 total time=   2.7s\n",
      "[CV 1/3] END learning_rate=0.015, max_depth=5, n_estimators=700;, score=0.995 total time=   3.6s\n",
      "[CV 2/3] END learning_rate=0.015, max_depth=5, n_estimators=700;, score=0.997 total time=   3.3s\n",
      "[CV 3/3] END learning_rate=0.015, max_depth=5, n_estimators=700;, score=0.997 total time=   3.6s\n"
     ]
    }
   ],
   "source": [
    "grid_search = GridSearchCV(\n",
    "    regressor,\n",
    "    param_grid,\n",
    "    cv = 3,\n",
    "    #scoring = 'precision',\n",
    "    n_jobs = 1,   \n",
    "    verbose = 3, #error_score='raise',\n",
    "    return_train_score =False\n",
    ")\n",
    "result = grid_search.fit(X_train, y_train)"
   ]
  },
  {
   "cell_type": "code",
   "execution_count": 35,
   "id": "176b056f-3ad0-4dcf-9115-416d73464124",
   "metadata": {
    "tags": []
   },
   "outputs": [
    {
     "name": "stdout",
     "output_type": "stream",
     "text": [
      "Best Score: 0.9967274151284222\n",
      "Best Hyperparameters: {'learning_rate': 0.01, 'max_depth': 4, 'n_estimators': 700}\n"
     ]
    }
   ],
   "source": [
    "print('Best Score: %s' % result.best_score_)\n",
    "print('Best Hyperparameters: %s' % result.best_params_)"
   ]
  },
  {
   "cell_type": "code",
   "execution_count": 40,
   "id": "50e0024e-6e88-4a6e-9559-735c39a7668f",
   "metadata": {
    "tags": []
   },
   "outputs": [],
   "source": [
    "regressor=xgb.XGBRegressor(n_estimators=600, max_depth=4, learning_rate= 0.01 , eval_metric='rmsle')\n",
    "regressor.fit(X_train, y_train)\n",
    "predictions = regressor.predict(X_test)"
   ]
  },
  {
   "cell_type": "code",
   "execution_count": 41,
   "id": "4871a780-d6e6-4738-8383-d71fc0114f87",
   "metadata": {
    "tags": []
   },
   "outputs": [],
   "source": [
    "from sklearn.metrics import r2_score, mean_absolute_error, mean_squared_error\n",
    "from sklearn.model_selection import cross_val_score\n",
    "\n",
    "def rmse_cv(model):\n",
    "    rmse = np.sqrt(-cross_val_score(model, X, y, scoring=\"neg_mean_squared_error\", cv=5)).mean()\n",
    "    return rmse\n",
    "    \n",
    "\n",
    "def evaluation(y, predictions):\n",
    "    mae = mean_absolute_error(y, predictions)\n",
    "    mse = mean_squared_error(y, predictions)\n",
    "    rmse = np.sqrt(mean_squared_error(y, predictions))\n",
    "    r_squared = r2_score(y, predictions)\n",
    "    return mae, mse, rmse, r_squared"
   ]
  },
  {
   "cell_type": "code",
   "execution_count": 42,
   "id": "086f5f58-f68a-4082-b23f-7d3bae800c50",
   "metadata": {
    "tags": []
   },
   "outputs": [],
   "source": [
    "models = pd.DataFrame(columns=[\"Model\",\"MAE\",\"MSE\",\"RMSE\",\"R2 Score\",\"RMSE (Cross-Validation)\"])"
   ]
  },
  {
   "cell_type": "code",
   "execution_count": 43,
   "id": "68a85514-a73d-4f39-bd9b-3a5b25e0af5d",
   "metadata": {
    "tags": []
   },
   "outputs": [
    {
     "name": "stdout",
     "output_type": "stream",
     "text": [
      "MAE: 23471.57813176994\n",
      "MSE: 38262844247.83184\n",
      "RMSE: 195608.90636121822\n",
      "R2 Score: 0.9955746529400207\n",
      "------------------------------\n",
      "RMSE Cross-Validation: 159182.88589454483\n"
     ]
    }
   ],
   "source": [
    "mae, mse, rmse, r_squared = evaluation(y_test, predictions)\n",
    "print(\"MAE:\", mae)\n",
    "print(\"MSE:\", mse)\n",
    "print(\"RMSE:\", rmse)\n",
    "print(\"R2 Score:\", r_squared)\n",
    "print(\"-\"*30)\n",
    "xgb_rmse_cross_val = rmse_cv(regressor)\n",
    "print(\"RMSE Cross-Validation:\", xgb_rmse_cross_val)"
   ]
  },
  {
   "cell_type": "code",
   "execution_count": 47,
   "id": "6984d20f-be0e-4f2d-acc9-1eda8ad75359",
   "metadata": {
    "tags": []
   },
   "outputs": [],
   "source": [
    "test_data  = pd.read_csv('test.csv',index_col=0)\n",
    "test_data.shape\n",
    "# test_data['RANDOM'] = np.random.normal(size=len(test_data))\n",
    "X_examine = test_data\n",
    "X_examine = X_examine.fillna(X_examine.mean())\n",
    "\n",
    "X_examine.shape\n",
    "\n",
    "submission = regressor.predict(X_examine)\n",
    "\n",
    "pd.DataFrame({\"Id\":test_data.index, \"SalePrice\":submission}).to_csv(\"submission-2.csv\", index=False)"
   ]
  },
  {
   "cell_type": "code",
   "execution_count": 50,
   "id": "b83443f8-a641-46e5-b232-cea43d138268",
   "metadata": {
    "tags": []
   },
   "outputs": [
    {
     "name": "stdout",
     "output_type": "stream",
     "text": [
      "The score is 1.15017\n"
     ]
    }
   ],
   "source": [
    "solution = pd.read_csv('sample_submission.csv')\n",
    "y_true  = solution[\"price\"]\n",
    "\n",
    "from sklearn.metrics import mean_squared_log_error\n",
    "RMSLE = np.sqrt( mean_squared_log_error(y_true, submission) )\n",
    "print(\"The score is %.5f\" % RMSLE )"
   ]
  },
  {
   "cell_type": "code",
   "execution_count": 51,
   "id": "48a7458a-c998-4d95-a0ef-e41c2e1e34db",
   "metadata": {
    "tags": []
   },
   "outputs": [
    {
     "data": {
      "image/png": "[encoded data removed]",
      "text/plain": [
       "<Figure size 1200x600 with 1 Axes>"
      ]
     },
     "metadata": {},
     "output_type": "display_data"
    }
   ],
   "source": [
    "from xgboost import plot_importance\n",
    "import matplotlib.pyplot as plt\n",
    "plt.style.use('fivethirtyeight')\n",
    "plt.rcParams.update({'font.size': 16})\n",
    "\n",
    "fig, ax = plt.subplots(figsize=(12,6))\n",
    "plot_importance(regressor, max_num_features=8, ax=ax)\n",
    "plt.show();"
   ]
  },
  {
   "cell_type": "code",
   "execution_count": 52,
   "id": "21d34c5a-f8ba-4249-8390-c2b1a8b39600",
   "metadata": {
    "tags": []
   },
   "outputs": [
    {
     "name": "stdout",
     "output_type": "stream",
     "text": [
      "The RMSLE score is 0.915\n",
      "The RMSLE score is 0.470\n"
     ]
    }
   ],
   "source": [
    "def RSLE(y_hat,y):\n",
    "    return np.sqrt((np.log1p(y_hat) - np.log1p(y))**2)\n",
    "\n",
    "print(\"The RMSLE score is %.3f\" % RSLE( 400,1000) )\n",
    "print(\"The RMSLE score is %.3f\" % RSLE(1600,1000) )"
   ]
  },
  {
   "cell_type": "code",
   "execution_count": 53,
   "id": "804fde69-8b07-4972-ab0a-03f04fc28506",
   "metadata": {
    "tags": []
   },
   "outputs": [
    {
     "data": {
      "image/png": "[encoded data removed]",
      "text/plain": [
       "<Figure size 700x400 with 1 Axes>"
      ]
     },
     "metadata": {},
     "output_type": "display_data"
    }
   ],
   "source": [
    "plt.rcParams[\"figure.figsize\"] = (7, 4)\n",
    "x = np.linspace(5,4000,100)\n",
    "plt.plot(x, RSLE(x,1000))\n",
    "plt.xlabel('prediction')\n",
    "plt.ylabel('RMSLE')\n",
    "plt.show()"
   ]
  },
  {
   "cell_type": "code",
   "execution_count": null,
   "id": "55ab4d6e-1663-4fac-b2ce-21bc005b9cab",
   "metadata": {},
   "outputs": [],
   "source": []
  }
 ],
 "metadata": {
  "kernelspec": {
   "display_name": "Python 3 (ipykernel)",
   "language": "python",
   "name": "python3"
  },
  "language_info": {
   "codemirror_mode": {
    "name": "ipython",
    "version": 3
   },
   "file_extension": ".py",
   "mimetype": "text/x-python",
   "name": "python",
   "nbconvert_exporter": "python",
   "pygments_lexer": "ipython3",
   "version": "3.11.3"
  }
 },
 "nbformat": 4,
 "nbformat_minor": 5
}
